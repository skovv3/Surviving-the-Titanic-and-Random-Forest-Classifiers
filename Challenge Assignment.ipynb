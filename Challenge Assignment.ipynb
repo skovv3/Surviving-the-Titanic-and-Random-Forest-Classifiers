{
 "cells": [
  {
   "cell_type": "code",
   "execution_count": 1,
   "metadata": {
    "collapsed": true
   },
   "outputs": [],
   "source": [
    "import numpy as np\n",
    "import matplotlib\n",
    "import sklearn\n",
    "import pandas as pd"
   ]
  },
  {
   "cell_type": "code",
   "execution_count": 2,
   "metadata": {
    "collapsed": false
   },
   "outputs": [
    {
     "name": "stdout",
     "output_type": "stream",
     "text": [
      "Populating the interactive namespace from numpy and matplotlib\n"
     ]
    }
   ],
   "source": [
    "%pylab inline\n",
    "titanic = pd.read_csv(\"train.csv\")"
   ]
  },
  {
   "cell_type": "code",
   "execution_count": 3,
   "metadata": {
    "collapsed": false
   },
   "outputs": [
    {
     "data": {
      "text/plain": [
       "29.69911764705882"
      ]
     },
     "execution_count": 3,
     "metadata": {},
     "output_type": "execute_result"
    }
   ],
   "source": [
    "titanic.Age.mean()"
   ]
  },
  {
   "cell_type": "code",
   "execution_count": 4,
   "metadata": {
    "collapsed": false
   },
   "outputs": [
    {
     "name": "stdout",
     "output_type": "stream",
     "text": [
      "        PassengerId  Survived        Age     SibSp     Parch       Fare  \\\n",
      "Pclass                                                                    \n",
      "1        461.597222  0.629630  38.233441  0.416667  0.356481  84.154687   \n",
      "2        445.956522  0.472826  29.877630  0.402174  0.380435  20.662183   \n",
      "3        439.154786  0.242363  25.140620  0.615071  0.393075  13.675550   \n",
      "\n",
      "          Gender  \n",
      "Pclass            \n",
      "1       0.564815  \n",
      "2       0.586957  \n",
      "3       0.706721  \n"
     ]
    },
    {
     "data": {
      "text/plain": [
       "SGDClassifier(alpha=0.0001, average=False, class_weight=None, epsilon=0.1,\n",
       "       eta0=0.0, fit_intercept=True, l1_ratio=0.15,\n",
       "       learning_rate='optimal', loss='hinge', n_iter=5, n_jobs=1,\n",
       "       penalty='l2', power_t=0.5, random_state=None, shuffle=True,\n",
       "       verbose=0, warm_start=False)"
      ]
     },
     "execution_count": 4,
     "metadata": {},
     "output_type": "execute_result"
    }
   ],
   "source": [
    "titanic['Gender'] = titanic['Sex'].map( {'female': 0, 'male': 1} ).astype(int)\n",
    "print (titanic.groupby('Pclass').aggregate(np.mean))\n",
    "X = titanic.as_matrix(columns = ['Pclass','Gender','Fare'])\n",
    "y = titanic['Survived'].tolist()\n",
    "from sklearn import linear_model\n",
    "clf = linear_model.SGDClassifier()\n",
    "clf.fit(X,y)"
   ]
  },
  {
   "cell_type": "code",
   "execution_count": 5,
   "metadata": {
    "collapsed": false
   },
   "outputs": [
    {
     "data": {
      "image/png": "[encoded data removed]",
      "text/plain": [
       "<matplotlib.figure.Figure at 0x8c6e2b0>"
      ]
     },
     "metadata": {},
     "output_type": "display_data"
    }
   ],
   "source": [
    "import matplotlib.pyplot as plt\n",
    "titanic['Age'].hist()\n",
    "plt.xlabel('Age')\n",
    "plt.ylabel('Number')\n",
    "plt.show()"
   ]
  },
  {
   "cell_type": "code",
   "execution_count": 6,
   "metadata": {
    "collapsed": false
   },
   "outputs": [
    {
     "name": "stdout",
     "output_type": "stream",
     "text": [
      "('seaborn', '0.7.0')\n"
     ]
    },
    {
     "data": {
      "image/png": "[encoded data removed]",
      "text/plain": [
       "<matplotlib.figure.Figure at 0x9eacc18>"
      ]
     },
     "metadata": {},
     "output_type": "display_data"
    }
   ],
   "source": [
    "import seaborn\n",
    "print('seaborn', seaborn.__version__)\n",
    "titanic['Age'].dropna().hist(bins=16, range=(0,80), alpha = .8)\n",
    "plt.xlabel('Age')\n",
    "plt.ylabel('Number')\n",
    "plt.show()"
   ]
  },
  {
   "cell_type": "code",
   "execution_count": 7,
   "metadata": {
    "collapsed": false
   },
   "outputs": [
    {
     "name": "stdout",
     "output_type": "stream",
     "text": [
      "        PassengerId  Survived    Pclass        Age     SibSp     Parch  \\\n",
      "Gender                                                                   \n",
      "0        431.028662  0.742038  2.159236  27.915709  0.694268  0.649682   \n",
      "1        454.147314  0.188908  2.389948  30.726645  0.429809  0.235702   \n",
      "\n",
      "             Fare  \n",
      "Gender             \n",
      "0       44.479818  \n",
      "1       25.523893  \n"
     ]
    },
    {
     "data": {
      "text/plain": [
       "array([[ 35. ,  28. ,  21.5],\n",
       "       [ 40. ,  30. ,  25. ]])"
      ]
     },
     "execution_count": 7,
     "metadata": {},
     "output_type": "execute_result"
    }
   ],
   "source": [
    "print (titanic.groupby('Gender').aggregate(np.mean))\n",
    "median_ages = np.zeros((2,3))\n",
    "\n",
    "for i in range(0, 2):\n",
    "    for j in range(0, 3):\n",
    "        median_ages[i,j] = titanic[(titanic['Gender'] == i) & \\\n",
    "                              (titanic['Pclass'] == j+1)]['Age'].dropna().median()\n",
    "\n",
    "median_ages"
   ]
  },
  {
   "cell_type": "code",
   "execution_count": 8,
   "metadata": {
    "collapsed": false
   },
   "outputs": [
    {
     "data": {
      "text/html": [
       "<div>\n",
       "<table border=\"1\" class=\"dataframe\">\n",
       "  <thead>\n",
       "    <tr style=\"text-align: right;\">\n",
       "      <th></th>\n",
       "      <th>Gender</th>\n",
       "      <th>Pclass</th>\n",
       "      <th>Age</th>\n",
       "      <th>AgeFill</th>\n",
       "    </tr>\n",
       "  </thead>\n",
       "  <tbody>\n",
       "    <tr>\n",
       "      <th>5</th>\n",
       "      <td>1</td>\n",
       "      <td>3</td>\n",
       "      <td>NaN</td>\n",
       "      <td>NaN</td>\n",
       "    </tr>\n",
       "    <tr>\n",
       "      <th>17</th>\n",
       "      <td>1</td>\n",
       "      <td>2</td>\n",
       "      <td>NaN</td>\n",
       "      <td>NaN</td>\n",
       "    </tr>\n",
       "    <tr>\n",
       "      <th>19</th>\n",
       "      <td>0</td>\n",
       "      <td>3</td>\n",
       "      <td>NaN</td>\n",
       "      <td>NaN</td>\n",
       "    </tr>\n",
       "    <tr>\n",
       "      <th>26</th>\n",
       "      <td>1</td>\n",
       "      <td>3</td>\n",
       "      <td>NaN</td>\n",
       "      <td>NaN</td>\n",
       "    </tr>\n",
       "    <tr>\n",
       "      <th>28</th>\n",
       "      <td>0</td>\n",
       "      <td>3</td>\n",
       "      <td>NaN</td>\n",
       "      <td>NaN</td>\n",
       "    </tr>\n",
       "    <tr>\n",
       "      <th>29</th>\n",
       "      <td>1</td>\n",
       "      <td>3</td>\n",
       "      <td>NaN</td>\n",
       "      <td>NaN</td>\n",
       "    </tr>\n",
       "    <tr>\n",
       "      <th>31</th>\n",
       "      <td>0</td>\n",
       "      <td>1</td>\n",
       "      <td>NaN</td>\n",
       "      <td>NaN</td>\n",
       "    </tr>\n",
       "    <tr>\n",
       "      <th>32</th>\n",
       "      <td>0</td>\n",
       "      <td>3</td>\n",
       "      <td>NaN</td>\n",
       "      <td>NaN</td>\n",
       "    </tr>\n",
       "    <tr>\n",
       "      <th>36</th>\n",
       "      <td>1</td>\n",
       "      <td>3</td>\n",
       "      <td>NaN</td>\n",
       "      <td>NaN</td>\n",
       "    </tr>\n",
       "  </tbody>\n",
       "</table>\n",
       "</div>"
      ],
      "text/plain": [
       "    Gender  Pclass  Age  AgeFill\n",
       "5        1       3  NaN      NaN\n",
       "17       1       2  NaN      NaN\n",
       "19       0       3  NaN      NaN\n",
       "26       1       3  NaN      NaN\n",
       "28       0       3  NaN      NaN\n",
       "29       1       3  NaN      NaN\n",
       "31       0       1  NaN      NaN\n",
       "32       0       3  NaN      NaN\n",
       "36       1       3  NaN      NaN"
      ]
     },
     "execution_count": 8,
     "metadata": {},
     "output_type": "execute_result"
    }
   ],
   "source": [
    "titanic['AgeFill'] = titanic['Age']\n",
    "\n",
    "titanic[ titanic['Age'].isnull() ][['Gender','Pclass','Age', 'AgeFill']].head(9)"
   ]
  },
  {
   "cell_type": "code",
   "execution_count": 9,
   "metadata": {
    "collapsed": false
   },
   "outputs": [
    {
     "data": {
      "text/html": [
       "<div>\n",
       "<table border=\"1\" class=\"dataframe\">\n",
       "  <thead>\n",
       "    <tr style=\"text-align: right;\">\n",
       "      <th></th>\n",
       "      <th>Gender</th>\n",
       "      <th>Pclass</th>\n",
       "      <th>Age</th>\n",
       "      <th>AgeFill</th>\n",
       "    </tr>\n",
       "  </thead>\n",
       "  <tbody>\n",
       "    <tr>\n",
       "      <th>5</th>\n",
       "      <td>1</td>\n",
       "      <td>3</td>\n",
       "      <td>NaN</td>\n",
       "      <td>25.0</td>\n",
       "    </tr>\n",
       "    <tr>\n",
       "      <th>17</th>\n",
       "      <td>1</td>\n",
       "      <td>2</td>\n",
       "      <td>NaN</td>\n",
       "      <td>30.0</td>\n",
       "    </tr>\n",
       "    <tr>\n",
       "      <th>19</th>\n",
       "      <td>0</td>\n",
       "      <td>3</td>\n",
       "      <td>NaN</td>\n",
       "      <td>21.5</td>\n",
       "    </tr>\n",
       "    <tr>\n",
       "      <th>26</th>\n",
       "      <td>1</td>\n",
       "      <td>3</td>\n",
       "      <td>NaN</td>\n",
       "      <td>25.0</td>\n",
       "    </tr>\n",
       "    <tr>\n",
       "      <th>28</th>\n",
       "      <td>0</td>\n",
       "      <td>3</td>\n",
       "      <td>NaN</td>\n",
       "      <td>21.5</td>\n",
       "    </tr>\n",
       "    <tr>\n",
       "      <th>29</th>\n",
       "      <td>1</td>\n",
       "      <td>3</td>\n",
       "      <td>NaN</td>\n",
       "      <td>25.0</td>\n",
       "    </tr>\n",
       "    <tr>\n",
       "      <th>31</th>\n",
       "      <td>0</td>\n",
       "      <td>1</td>\n",
       "      <td>NaN</td>\n",
       "      <td>35.0</td>\n",
       "    </tr>\n",
       "    <tr>\n",
       "      <th>32</th>\n",
       "      <td>0</td>\n",
       "      <td>3</td>\n",
       "      <td>NaN</td>\n",
       "      <td>21.5</td>\n",
       "    </tr>\n",
       "    <tr>\n",
       "      <th>36</th>\n",
       "      <td>1</td>\n",
       "      <td>3</td>\n",
       "      <td>NaN</td>\n",
       "      <td>25.0</td>\n",
       "    </tr>\n",
       "  </tbody>\n",
       "</table>\n",
       "</div>"
      ],
      "text/plain": [
       "    Gender  Pclass  Age  AgeFill\n",
       "5        1       3  NaN     25.0\n",
       "17       1       2  NaN     30.0\n",
       "19       0       3  NaN     21.5\n",
       "26       1       3  NaN     25.0\n",
       "28       0       3  NaN     21.5\n",
       "29       1       3  NaN     25.0\n",
       "31       0       1  NaN     35.0\n",
       "32       0       3  NaN     21.5\n",
       "36       1       3  NaN     25.0"
      ]
     },
     "execution_count": 9,
     "metadata": {},
     "output_type": "execute_result"
    }
   ],
   "source": [
    "for i in range(0, 2):\n",
    "    for j in range(0, 3):\n",
    "        titanic.loc[ (titanic.Age.isnull()) & (titanic.Gender == i) & (titanic.Pclass == j+1),\\\n",
    "                'AgeFill'] = median_ages[i,j]\n",
    "\n",
    "titanic[ titanic['Age'].isnull() ][['Gender','Pclass','Age', 'AgeFill']].head(9)"
   ]
  },
  {
   "cell_type": "code",
   "execution_count": 10,
   "metadata": {
    "collapsed": true
   },
   "outputs": [],
   "source": [
    "titanic['AgeIsNull'] = pd.isnull(titanic.Age).astype(int)\n",
    "titanic['FamilySize'] = titanic['SibSp'] + titanic['Parch']\n",
    "titanic['Age*Class'] = titanic.AgeFill * titanic.Pclass"
   ]
  },
  {
   "cell_type": "code",
   "execution_count": 11,
   "metadata": {
    "collapsed": false
   },
   "outputs": [
    {
     "name": "stdout",
     "output_type": "stream",
     "text": [
      "Name        object\n",
      "Sex         object\n",
      "Ticket      object\n",
      "Cabin       object\n",
      "Embarked    object\n",
      "dtype: object\n"
     ]
    },
    {
     "data": {
      "text/plain": [
       "array([[  0. ,   3. ,   1. , ...,   0. ,   1. ,  66. ],\n",
       "       [  1. ,   1. ,   1. , ...,   0. ,   1. ,  38. ],\n",
       "       [  1. ,   3. ,   0. , ...,   0. ,   0. ,  78. ],\n",
       "       ..., \n",
       "       [  0. ,   3. ,   1. , ...,   1. ,   3. ,  64.5],\n",
       "       [  1. ,   1. ,   0. , ...,   0. ,   0. ,  26. ],\n",
       "       [  0. ,   3. ,   0. , ...,   0. ,   0. ,  96. ]])"
      ]
     },
     "execution_count": 11,
     "metadata": {},
     "output_type": "execute_result"
    }
   ],
   "source": [
    "print (titanic.dtypes[titanic.dtypes.map(lambda x: x=='object')])\n",
    "train_data = titanic.drop(['Name', 'Sex', 'Ticket', 'Cabin', 'Embarked'], axis=1) \n",
    "train_data = train_data.drop(['Age', 'PassengerId'], axis = 1)\n",
    "train_data = train_data.as_matrix()\n",
    "train_data"
   ]
  },
  {
   "cell_type": "code",
   "execution_count": 12,
   "metadata": {
    "collapsed": false
   },
   "outputs": [
    {
     "name": "stdout",
     "output_type": "stream",
     "text": [
      "['versicolor']\n",
      "[[ 0.   0.8  0.2]]\n"
     ]
    }
   ],
   "source": [
    "from sklearn import neighbors, datasets\n",
    "iris = datasets.load_iris()\n",
    "X, y = iris.data, iris.target\n",
    "knn = neighbors.KNeighborsClassifier(n_neighbors=5)\n",
    "knn.fit(X, y)\n",
    "result = knn.predict([[3, 5, 4, 2],])\n",
    "print(iris.target_names[result])\n",
    "print(knn.predict_proba([[3, 5, 4, 2],]))"
   ]
  },
  {
   "cell_type": "code",
   "execution_count": 13,
   "metadata": {
    "collapsed": false
   },
   "outputs": [
    {
     "data": {
      "image/png": "[encoded data removed]",
      "text/plain": [
       "<matplotlib.figure.Figure at 0x80e7eb8>"
      ]
     },
     "metadata": {},
     "output_type": "display_data"
    }
   ],
   "source": [
    "def plot_iris_knn(n_neighbors=3, pca=False):\n",
    "    import pylab as pl\n",
    "    from matplotlib.colors import ListedColormap\n",
    "    cmap_light = ListedColormap(['#FF0000', '#00FF00', '#0000FF'])\n",
    "    cmap_bold = ListedColormap(['#FFAAAA', '#AAFFAA', '#AAAAFF'])\n",
    "\n",
    "    iris = datasets.load_iris()\n",
    "    if pca == False:\n",
    "        X = iris.data[:, :2]  \n",
    "        y = iris.target\n",
    "    else:\n",
    "        from sklearn.decomposition import PCA\n",
    "        pca = PCA(n_components=2)\n",
    "        X, y = iris.data, iris.target\n",
    "        pca.fit(X)\n",
    "        X = pca.transform(X)\n",
    "        \n",
    "    knn = neighbors.KNeighborsClassifier(n_neighbors)\n",
    "    knn.fit(X, y)\n",
    "\n",
    "    x_min, x_max = X[:, 0].min() - .1, X[:, 0].max() + .1\n",
    "    y_min, y_max = X[:, 1].min() - .1, X[:, 1].max() + .1\n",
    "    xx, yy = np.meshgrid(np.linspace(x_min, x_max, 100),\n",
    "                         np.linspace(y_min, y_max, 100))\n",
    "    Z = knn.predict(np.c_[xx.ravel(), yy.ravel()])\n",
    "\n",
    "    Z = Z.reshape(xx.shape)\n",
    "    pl.figure()\n",
    "    pl.pcolormesh(xx, yy, Z, cmap=cmap_light)\n",
    "\n",
    "    pl.scatter(X[:, 0], X[:, 1], c=y, cmap=cmap_bold)\n",
    "    if pca:\n",
    "        pl.xlabel('principle component no.1')\n",
    "        pl.ylabel('principle component no.2')\n",
    "    else:\n",
    "        pl.xlabel('sepal length (cm)')\n",
    "        pl.ylabel('sepal width (cm)')\n",
    "    pl.axis('tight')\n",
    "plot_iris_knn(3)"
   ]
  },
  {
   "cell_type": "code",
   "execution_count": 14,
   "metadata": {
    "collapsed": false
   },
   "outputs": [
    {
     "data": {
      "image/png": "[encoded data removed]",
      "text/plain": [
       "<matplotlib.figure.Figure at 0x9b40dd8>"
      ]
     },
     "metadata": {},
     "output_type": "display_data"
    }
   ],
   "source": [
    "plot_iris_knn(1,pca=False)"
   ]
  },
  {
   "cell_type": "code",
   "execution_count": 15,
   "metadata": {
    "collapsed": false
   },
   "outputs": [
    {
     "name": "stdout",
     "output_type": "stream",
     "text": [
      "[[11  0  0]\n",
      " [ 0  9  0]\n",
      " [ 0  1 17]]\n"
     ]
    }
   ],
   "source": [
    "from sklearn.cross_validation import train_test_split\n",
    "from sklearn.metrics import confusion_matrix\n",
    "from sklearn.neighbors import KNeighborsClassifier\n",
    "\n",
    "X, y = iris.data, iris.target\n",
    "Xtrain, Xtest, ytrain, ytest = train_test_split(X, y)\n",
    "knn = KNeighborsClassifier(n_neighbors=1)\n",
    "knn.fit(Xtrain, ytrain)\n",
    "ypred = knn.predict(Xtest)\n",
    "print(confusion_matrix(ytest, ypred))"
   ]
  },
  {
   "cell_type": "code",
   "execution_count": 16,
   "metadata": {
    "collapsed": false
   },
   "outputs": [
    {
     "data": {
      "text/plain": [
       "0.97368421052631582"
      ]
     },
     "execution_count": 16,
     "metadata": {},
     "output_type": "execute_result"
    }
   ],
   "source": [
    "knn.score(Xtest, ytest)"
   ]
  },
  {
   "cell_type": "code",
   "execution_count": null,
   "metadata": {
    "collapsed": true
   },
   "outputs": [],
   "source": []
  },
  {
   "cell_type": "code",
   "execution_count": null,
   "metadata": {
    "collapsed": true
   },
   "outputs": [],
   "source": []
  }
 ],
 "metadata": {
  "kernelspec": {
   "display_name": "Python 2",
   "language": "python",
   "name": "python2"
  },
  "language_info": {
   "codemirror_mode": {
    "name": "ipython",
    "version": 2
   },
   "file_extension": ".py",
   "mimetype": "text/x-python",
   "name": "python",
   "nbconvert_exporter": "python",
   "pygments_lexer": "ipython2",
   "version": "2.7.11"
  }
 },
 "nbformat": 4,
 "nbformat_minor": 0
}
